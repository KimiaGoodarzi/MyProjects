{
  "nbformat": 4,
  "nbformat_minor": 0,
  "metadata": {
    "colab": {
      "provenance": [],
      "authorship_tag": "ABX9TyP7Z8/XfUaMe+TnWSctG50r",
      "include_colab_link": true
    },
    "kernelspec": {
      "name": "python3",
      "display_name": "Python 3"
    },
    "language_info": {
      "name": "python"
    }
  },
  "cells": [
    {
      "cell_type": "markdown",
      "metadata": {
        "id": "view-in-github",
        "colab_type": "text"
      },
      "source": [
        "<a href=\"https://colab.research.google.com/github/KimiaGoodarzi/MyProjects/blob/main/EyesOpenClosed.ipynb\" target=\"_parent\"><img src=\"https://colab.research.google.com/assets/colab-badge.svg\" alt=\"Open In Colab\"/></a>"
      ]
    },
    {
      "cell_type": "markdown",
      "source": [
        "**Library Imports**: The essential PyTorch libraries and utilities are imported.\n",
        "\n"
      ],
      "metadata": {
        "id": "GqISMuo_yoAd"
      }
    },
    {
      "cell_type": "code",
      "execution_count": 1,
      "metadata": {
        "id": "i5Zz9xZJvKQA"
      },
      "outputs": [],
      "source": [
        "import torch\n",
        "import torch.nn as nn\n",
        "import torch.optim as optim\n",
        "from torchvision import datasets, transforms\n",
        "from torch.utils.data import DataLoader, random_split\n",
        "import numpy as np\n"
      ]
    },
    {
      "cell_type": "markdown",
      "source": [
        "**File Upload:** Google Colab's file upload utility is being used to upload files directly into the runtime's environment. The code block uploads our dataset in the form of a zip file named \"train 2.zip\"."
      ],
      "metadata": {
        "id": "G5x9s6t29Cd5"
      }
    },
    {
      "cell_type": "code",
      "source": [
        "from google.colab import files\n",
        "\n",
        "uploaded = files.upload()\n",
        "\n",
        "for fn in uploaded.keys():\n",
        "    print('User uploaded file \"{name}\" with length {length} bytes'.format(name=fn, length=len(uploaded[fn])))\n"
      ],
      "metadata": {
        "colab": {
          "base_uri": "https://localhost:8080/",
          "height": 92
        },
        "id": "aDmK5aUk0LZR",
        "outputId": "d0757828-5704-4f1f-e564-8e8623540220"
      },
      "execution_count": 4,
      "outputs": [
        {
          "output_type": "display_data",
          "data": {
            "text/plain": [
              "<IPython.core.display.HTML object>"
            ],
            "text/html": [
              "\n",
              "     <input type=\"file\" id=\"files-9f3bb769-9066-4a32-a470-60323aacd650\" name=\"files[]\" multiple disabled\n",
              "        style=\"border:none\" />\n",
              "     <output id=\"result-9f3bb769-9066-4a32-a470-60323aacd650\">\n",
              "      Upload widget is only available when the cell has been executed in the\n",
              "      current browser session. Please rerun this cell to enable.\n",
              "      </output>\n",
              "      <script>// Copyright 2017 Google LLC\n",
              "//\n",
              "// Licensed under the Apache License, Version 2.0 (the \"License\");\n",
              "// you may not use this file except in compliance with the License.\n",
              "// You may obtain a copy of the License at\n",
              "//\n",
              "//      http://www.apache.org/licenses/LICENSE-2.0\n",
              "//\n",
              "// Unless required by applicable law or agreed to in writing, software\n",
              "// distributed under the License is distributed on an \"AS IS\" BASIS,\n",
              "// WITHOUT WARRANTIES OR CONDITIONS OF ANY KIND, either express or implied.\n",
              "// See the License for the specific language governing permissions and\n",
              "// limitations under the License.\n",
              "\n",
              "/**\n",
              " * @fileoverview Helpers for google.colab Python module.\n",
              " */\n",
              "(function(scope) {\n",
              "function span(text, styleAttributes = {}) {\n",
              "  const element = document.createElement('span');\n",
              "  element.textContent = text;\n",
              "  for (const key of Object.keys(styleAttributes)) {\n",
              "    element.style[key] = styleAttributes[key];\n",
              "  }\n",
              "  return element;\n",
              "}\n",
              "\n",
              "// Max number of bytes which will be uploaded at a time.\n",
              "const MAX_PAYLOAD_SIZE = 100 * 1024;\n",
              "\n",
              "function _uploadFiles(inputId, outputId) {\n",
              "  const steps = uploadFilesStep(inputId, outputId);\n",
              "  const outputElement = document.getElementById(outputId);\n",
              "  // Cache steps on the outputElement to make it available for the next call\n",
              "  // to uploadFilesContinue from Python.\n",
              "  outputElement.steps = steps;\n",
              "\n",
              "  return _uploadFilesContinue(outputId);\n",
              "}\n",
              "\n",
              "// This is roughly an async generator (not supported in the browser yet),\n",
              "// where there are multiple asynchronous steps and the Python side is going\n",
              "// to poll for completion of each step.\n",
              "// This uses a Promise to block the python side on completion of each step,\n",
              "// then passes the result of the previous step as the input to the next step.\n",
              "function _uploadFilesContinue(outputId) {\n",
              "  const outputElement = document.getElementById(outputId);\n",
              "  const steps = outputElement.steps;\n",
              "\n",
              "  const next = steps.next(outputElement.lastPromiseValue);\n",
              "  return Promise.resolve(next.value.promise).then((value) => {\n",
              "    // Cache the last promise value to make it available to the next\n",
              "    // step of the generator.\n",
              "    outputElement.lastPromiseValue = value;\n",
              "    return next.value.response;\n",
              "  });\n",
              "}\n",
              "\n",
              "/**\n",
              " * Generator function which is called between each async step of the upload\n",
              " * process.\n",
              " * @param {string} inputId Element ID of the input file picker element.\n",
              " * @param {string} outputId Element ID of the output display.\n",
              " * @return {!Iterable<!Object>} Iterable of next steps.\n",
              " */\n",
              "function* uploadFilesStep(inputId, outputId) {\n",
              "  const inputElement = document.getElementById(inputId);\n",
              "  inputElement.disabled = false;\n",
              "\n",
              "  const outputElement = document.getElementById(outputId);\n",
              "  outputElement.innerHTML = '';\n",
              "\n",
              "  const pickedPromise = new Promise((resolve) => {\n",
              "    inputElement.addEventListener('change', (e) => {\n",
              "      resolve(e.target.files);\n",
              "    });\n",
              "  });\n",
              "\n",
              "  const cancel = document.createElement('button');\n",
              "  inputElement.parentElement.appendChild(cancel);\n",
              "  cancel.textContent = 'Cancel upload';\n",
              "  const cancelPromise = new Promise((resolve) => {\n",
              "    cancel.onclick = () => {\n",
              "      resolve(null);\n",
              "    };\n",
              "  });\n",
              "\n",
              "  // Wait for the user to pick the files.\n",
              "  const files = yield {\n",
              "    promise: Promise.race([pickedPromise, cancelPromise]),\n",
              "    response: {\n",
              "      action: 'starting',\n",
              "    }\n",
              "  };\n",
              "\n",
              "  cancel.remove();\n",
              "\n",
              "  // Disable the input element since further picks are not allowed.\n",
              "  inputElement.disabled = true;\n",
              "\n",
              "  if (!files) {\n",
              "    return {\n",
              "      response: {\n",
              "        action: 'complete',\n",
              "      }\n",
              "    };\n",
              "  }\n",
              "\n",
              "  for (const file of files) {\n",
              "    const li = document.createElement('li');\n",
              "    li.append(span(file.name, {fontWeight: 'bold'}));\n",
              "    li.append(span(\n",
              "        `(${file.type || 'n/a'}) - ${file.size} bytes, ` +\n",
              "        `last modified: ${\n",
              "            file.lastModifiedDate ? file.lastModifiedDate.toLocaleDateString() :\n",
              "                                    'n/a'} - `));\n",
              "    const percent = span('0% done');\n",
              "    li.appendChild(percent);\n",
              "\n",
              "    outputElement.appendChild(li);\n",
              "\n",
              "    const fileDataPromise = new Promise((resolve) => {\n",
              "      const reader = new FileReader();\n",
              "      reader.onload = (e) => {\n",
              "        resolve(e.target.result);\n",
              "      };\n",
              "      reader.readAsArrayBuffer(file);\n",
              "    });\n",
              "    // Wait for the data to be ready.\n",
              "    let fileData = yield {\n",
              "      promise: fileDataPromise,\n",
              "      response: {\n",
              "        action: 'continue',\n",
              "      }\n",
              "    };\n",
              "\n",
              "    // Use a chunked sending to avoid message size limits. See b/62115660.\n",
              "    let position = 0;\n",
              "    do {\n",
              "      const length = Math.min(fileData.byteLength - position, MAX_PAYLOAD_SIZE);\n",
              "      const chunk = new Uint8Array(fileData, position, length);\n",
              "      position += length;\n",
              "\n",
              "      const base64 = btoa(String.fromCharCode.apply(null, chunk));\n",
              "      yield {\n",
              "        response: {\n",
              "          action: 'append',\n",
              "          file: file.name,\n",
              "          data: base64,\n",
              "        },\n",
              "      };\n",
              "\n",
              "      let percentDone = fileData.byteLength === 0 ?\n",
              "          100 :\n",
              "          Math.round((position / fileData.byteLength) * 100);\n",
              "      percent.textContent = `${percentDone}% done`;\n",
              "\n",
              "    } while (position < fileData.byteLength);\n",
              "  }\n",
              "\n",
              "  // All done.\n",
              "  yield {\n",
              "    response: {\n",
              "      action: 'complete',\n",
              "    }\n",
              "  };\n",
              "}\n",
              "\n",
              "scope.google = scope.google || {};\n",
              "scope.google.colab = scope.google.colab || {};\n",
              "scope.google.colab._files = {\n",
              "  _uploadFiles,\n",
              "  _uploadFilesContinue,\n",
              "};\n",
              "})(self);\n",
              "</script> "
            ]
          },
          "metadata": {}
        },
        {
          "output_type": "stream",
          "name": "stdout",
          "text": [
            "Saving train 2.zip to train 2.zip\n",
            "User uploaded file \"train 2.zip\" with length 25429753 bytes\n"
          ]
        }
      ]
    },
    {
      "cell_type": "markdown",
      "source": [
        "**Zip File Extraction:** The uploaded dataset is extracted, then the images inside the zip file will be available in our directory."
      ],
      "metadata": {
        "id": "ufJsory39WB-"
      }
    },
    {
      "cell_type": "code",
      "source": [
        "import zipfile\n",
        "import os\n",
        "\n",
        "zip_ref = zipfile.ZipFile('train 2.zip', 'r')\n",
        "zip_ref.extractall()\n",
        "zip_ref.close()\n"
      ],
      "metadata": {
        "id": "OsC7v9sK3EZ5"
      },
      "execution_count": 5,
      "outputs": []
    },
    {
      "cell_type": "markdown",
      "source": [
        "**Data Loading and Preprocessing**\n",
        "\n",
        "Images are transformed by:\n",
        "Resizing to 64x64 pixels.\n",
        "Converting them to tensor format\n",
        "Normalizing pixel values between -0.5 and 0.5 for better convergence during training.\n",
        "\n",
        "Dataset Loading: The ImageFolder utility from torchvision is used to load the images.\n",
        "Dataset Splitting: The dataset is split into training and testing datasets. **80%** of the data is used for training, and **20%** is used for testing.\n",
        "\n",
        " For efficient loading of data in batches during the training process, we create PyTorch DataLoader objects."
      ],
      "metadata": {
        "id": "AiFm1g3D-qS7"
      }
    },
    {
      "cell_type": "code",
      "source": [
        "import torch\n",
        "from torchvision import datasets, transforms\n",
        "from torch.utils.data import random_split, DataLoader\n",
        "\n",
        "transform = transforms.Compose([\n",
        "    transforms.Resize((64, 64)),\n",
        "    transforms.ToTensor(),\n",
        "    transforms.Normalize((0.5, 0.5, 0.5), (0.5, 0.5, 0.5))\n",
        "])\n",
        "\n",
        "\n",
        "dataset = datasets.ImageFolder('train 2', transform=transform)\n",
        "\n",
        "\n",
        "train_size = int(0.8 * len(dataset))\n",
        "test_size = len(dataset) - train_size\n",
        "\n",
        "train_dataset, test_dataset = random_split(dataset, [train_size, test_size])\n",
        "\n",
        "train_loader = DataLoader(train_dataset, batch_size=32, shuffle=True)\n",
        "test_loader = DataLoader(test_dataset, batch_size=32)\n"
      ],
      "metadata": {
        "id": "IEFYGO0-3SDG"
      },
      "execution_count": 6,
      "outputs": []
    },
    {
      "cell_type": "markdown",
      "source": [
        "**CNNmodel Class: **\n",
        "The network structure is defined with two convolutional layers followed by two fully connected layers:\n",
        "conv1: A 2D convolutional layer with 3 input channels, 32 output channels, a kernel size of **3x3**, and a stride of **1**.\n",
        "conv2: A 2D convolutional layer with 32 input channels (from conv1), 64 output channels, a kernel size of **3x3**, and a stride of **1**.\n",
        "fc1: A fully connected layer that takes the output, then outputs 128 elements.\n",
        "fc2: Another fully connected (linear) layer that takes the 128 elements from the previous layer, outputs 2 elements."
      ],
      "metadata": {
        "id": "fTr9kbQuAc_C"
      }
    },
    {
      "cell_type": "code",
      "source": [
        "import torch.nn as nn\n",
        "import torch.nn.functional as F\n",
        "\n",
        "class CNNmodel(nn.Module):\n",
        "    def __init__(self):\n",
        "        super(CNNmodel, self).__init__()\n",
        "\n",
        "\n",
        "        self.conv1 = nn.Conv2d(3, 32, 3, 1)\n",
        "        self.conv2 = nn.Conv2d(32, 64, 3, 1)\n",
        "\n",
        "        self.fc1 = nn.Linear(14*14*64, 128)\n",
        "        self.fc2 = nn.Linear(128, 2)\n",
        "    def forward(self, x):\n",
        "\n",
        "        x = self.conv1(x)\n",
        "        x = F.relu(x)\n",
        "        x = F.max_pool2d(x, 2)\n",
        "\n",
        "        x = self.conv2(x)\n",
        "        x = F.relu(x)\n",
        "        x = F.max_pool2d(x, 2)\n",
        "\n",
        "\n",
        "        x = torch.flatten(x, 1)\n",
        "\n",
        "\n",
        "        x = self.fc1(x)\n",
        "        x = F.relu(x)\n",
        "        x = self.fc2(x)\n",
        "\n",
        "        return F.log_softmax(x, dim=1)\n",
        "\n",
        "model = CNNmodel()\n"
      ],
      "metadata": {
        "id": "ezV0UHVc4Dgx"
      },
      "execution_count": 13,
      "outputs": []
    },
    {
      "cell_type": "code",
      "source": [
        "import torch.optim as optim\n",
        "\n",
        "criterion = nn.CrossEntropyLoss()\n",
        "optimizer = optim.Adam(model.parameters(), lr=0.001)\n"
      ],
      "metadata": {
        "id": "96oTI2Ix4oxL"
      },
      "execution_count": 14,
      "outputs": []
    },
    {
      "cell_type": "code",
      "source": [
        "\n",
        "num_epochs = 10\n",
        "\n",
        "for epoch in range(num_epochs):\n",
        "    model.train()\n",
        "    for batch_idx, (data, target) in enumerate(train_loader):\n",
        "        optimizer.zero_grad()\n",
        "        output = model(data)\n",
        "        loss = criterion(output, target)\n",
        "        loss.backward()\n",
        "        optimizer.step()\n",
        "\n",
        "\n",
        "        if batch_idx % 10 == 0:\n",
        "            print(f'Epoch: {epoch+1}/{num_epochs}, Batch: {batch_idx}/{len(train_loader)}, Loss: {loss.item()}')\n"
      ],
      "metadata": {
        "colab": {
          "base_uri": "https://localhost:8080/"
        },
        "id": "fmgIs38d4wGp",
        "outputId": "9797289a-54cd-4cec-ef00-11400728bb57"
      },
      "execution_count": 15,
      "outputs": [
        {
          "output_type": "stream",
          "name": "stdout",
          "text": [
            "Epoch: 1/10, Batch: 0/100, Loss: 0.6971750855445862\n",
            "Epoch: 1/10, Batch: 10/100, Loss: 0.2882293164730072\n",
            "Epoch: 1/10, Batch: 20/100, Loss: 0.22569438815116882\n",
            "Epoch: 1/10, Batch: 30/100, Loss: 0.07349244505167007\n",
            "Epoch: 1/10, Batch: 40/100, Loss: 0.056704457849264145\n",
            "Epoch: 1/10, Batch: 50/100, Loss: 0.017251694574952126\n",
            "Epoch: 1/10, Batch: 60/100, Loss: 0.025376975536346436\n",
            "Epoch: 1/10, Batch: 70/100, Loss: 0.17431190609931946\n",
            "Epoch: 1/10, Batch: 80/100, Loss: 0.06582852452993393\n",
            "Epoch: 1/10, Batch: 90/100, Loss: 0.009061189368367195\n",
            "Epoch: 2/10, Batch: 0/100, Loss: 0.014648564159870148\n",
            "Epoch: 2/10, Batch: 10/100, Loss: 0.002554418984800577\n",
            "Epoch: 2/10, Batch: 20/100, Loss: 0.007007355336099863\n",
            "Epoch: 2/10, Batch: 30/100, Loss: 0.012217767536640167\n",
            "Epoch: 2/10, Batch: 40/100, Loss: 0.00661088339984417\n",
            "Epoch: 2/10, Batch: 50/100, Loss: 0.03262922167778015\n",
            "Epoch: 2/10, Batch: 60/100, Loss: 0.01086620707064867\n",
            "Epoch: 2/10, Batch: 70/100, Loss: 0.002093823626637459\n",
            "Epoch: 2/10, Batch: 80/100, Loss: 0.013660432770848274\n",
            "Epoch: 2/10, Batch: 90/100, Loss: 0.05744284763932228\n",
            "Epoch: 3/10, Batch: 0/100, Loss: 0.027205154299736023\n",
            "Epoch: 3/10, Batch: 10/100, Loss: 0.08222845196723938\n",
            "Epoch: 3/10, Batch: 20/100, Loss: 0.009238583967089653\n",
            "Epoch: 3/10, Batch: 30/100, Loss: 0.0033005867153406143\n",
            "Epoch: 3/10, Batch: 40/100, Loss: 0.0012159208999946713\n",
            "Epoch: 3/10, Batch: 50/100, Loss: 0.002362796338275075\n",
            "Epoch: 3/10, Batch: 60/100, Loss: 0.01335098221898079\n",
            "Epoch: 3/10, Batch: 70/100, Loss: 0.0029339338652789593\n",
            "Epoch: 3/10, Batch: 80/100, Loss: 0.00976642407476902\n",
            "Epoch: 3/10, Batch: 90/100, Loss: 0.06783613562583923\n",
            "Epoch: 4/10, Batch: 0/100, Loss: 0.0047760047018527985\n",
            "Epoch: 4/10, Batch: 10/100, Loss: 0.0068140774965286255\n",
            "Epoch: 4/10, Batch: 20/100, Loss: 0.0026991304475814104\n",
            "Epoch: 4/10, Batch: 30/100, Loss: 0.00020529585890471935\n",
            "Epoch: 4/10, Batch: 40/100, Loss: 0.004487156867980957\n",
            "Epoch: 4/10, Batch: 50/100, Loss: 0.008037706837058067\n",
            "Epoch: 4/10, Batch: 60/100, Loss: 0.0022369236685335636\n",
            "Epoch: 4/10, Batch: 70/100, Loss: 0.0011176657862961292\n",
            "Epoch: 4/10, Batch: 80/100, Loss: 0.0006081683095544577\n",
            "Epoch: 4/10, Batch: 90/100, Loss: 0.000513728940859437\n",
            "Epoch: 5/10, Batch: 0/100, Loss: 0.00015064689796417952\n",
            "Epoch: 5/10, Batch: 10/100, Loss: 0.0013672919012606144\n",
            "Epoch: 5/10, Batch: 20/100, Loss: 0.000542457215487957\n",
            "Epoch: 5/10, Batch: 30/100, Loss: 0.00034049322130158544\n",
            "Epoch: 5/10, Batch: 40/100, Loss: 0.0006983955972827971\n",
            "Epoch: 5/10, Batch: 50/100, Loss: 0.00044288046774454415\n",
            "Epoch: 5/10, Batch: 60/100, Loss: 0.015434318222105503\n",
            "Epoch: 5/10, Batch: 70/100, Loss: 0.0018928353674709797\n",
            "Epoch: 5/10, Batch: 80/100, Loss: 0.0012650036951527\n",
            "Epoch: 5/10, Batch: 90/100, Loss: 0.0055408719927072525\n",
            "Epoch: 6/10, Batch: 0/100, Loss: 0.0008650567615404725\n",
            "Epoch: 6/10, Batch: 10/100, Loss: 0.00011491102486616\n",
            "Epoch: 6/10, Batch: 20/100, Loss: 0.0037993439473211765\n",
            "Epoch: 6/10, Batch: 30/100, Loss: 0.003239869372919202\n",
            "Epoch: 6/10, Batch: 40/100, Loss: 0.0014243898913264275\n",
            "Epoch: 6/10, Batch: 50/100, Loss: 0.0036408582236617804\n",
            "Epoch: 6/10, Batch: 60/100, Loss: 0.0003574654692783952\n",
            "Epoch: 6/10, Batch: 70/100, Loss: 3.839298733510077e-05\n",
            "Epoch: 6/10, Batch: 80/100, Loss: 0.00046401863801293075\n",
            "Epoch: 6/10, Batch: 90/100, Loss: 0.00015045645704958588\n",
            "Epoch: 7/10, Batch: 0/100, Loss: 0.0003861433360725641\n",
            "Epoch: 7/10, Batch: 10/100, Loss: 0.0001709513453533873\n",
            "Epoch: 7/10, Batch: 20/100, Loss: 0.00033983445609919727\n",
            "Epoch: 7/10, Batch: 30/100, Loss: 9.67688174569048e-05\n",
            "Epoch: 7/10, Batch: 40/100, Loss: 8.114632510114461e-05\n",
            "Epoch: 7/10, Batch: 50/100, Loss: 4.1756553400773555e-05\n",
            "Epoch: 7/10, Batch: 60/100, Loss: 0.0007980730151757598\n",
            "Epoch: 7/10, Batch: 70/100, Loss: 2.1704860046156682e-05\n",
            "Epoch: 7/10, Batch: 80/100, Loss: 0.000152758919284679\n",
            "Epoch: 7/10, Batch: 90/100, Loss: 5.286148370942101e-05\n",
            "Epoch: 8/10, Batch: 0/100, Loss: 0.000289303861791268\n",
            "Epoch: 8/10, Batch: 10/100, Loss: 1.8517326680012047e-05\n",
            "Epoch: 8/10, Batch: 20/100, Loss: 6.6342247009743e-05\n",
            "Epoch: 8/10, Batch: 30/100, Loss: 0.00013733856030739844\n",
            "Epoch: 8/10, Batch: 40/100, Loss: 1.994281410588883e-05\n",
            "Epoch: 8/10, Batch: 50/100, Loss: 3.092179758823477e-05\n",
            "Epoch: 8/10, Batch: 60/100, Loss: 1.2952154065715149e-05\n",
            "Epoch: 8/10, Batch: 70/100, Loss: 3.7536152376560494e-05\n",
            "Epoch: 8/10, Batch: 80/100, Loss: 0.00046960596228018403\n",
            "Epoch: 8/10, Batch: 90/100, Loss: 1.3133728316461202e-05\n",
            "Epoch: 9/10, Batch: 0/100, Loss: 0.00019488153338897973\n",
            "Epoch: 9/10, Batch: 10/100, Loss: 5.85766501899343e-05\n",
            "Epoch: 9/10, Batch: 20/100, Loss: 5.378094647312537e-05\n",
            "Epoch: 9/10, Batch: 30/100, Loss: 0.00031059692264534533\n",
            "Epoch: 9/10, Batch: 40/100, Loss: 1.2926196177431848e-05\n",
            "Epoch: 9/10, Batch: 50/100, Loss: 5.688324017683044e-05\n",
            "Epoch: 9/10, Batch: 60/100, Loss: 1.250532477570232e-05\n",
            "Epoch: 9/10, Batch: 70/100, Loss: 4.16854254581267e-06\n",
            "Epoch: 9/10, Batch: 80/100, Loss: 3.7003042962169275e-05\n",
            "Epoch: 9/10, Batch: 90/100, Loss: 0.0004100018704775721\n",
            "Epoch: 10/10, Batch: 0/100, Loss: 0.00025131358415819705\n",
            "Epoch: 10/10, Batch: 10/100, Loss: 6.176385340950219e-06\n",
            "Epoch: 10/10, Batch: 20/100, Loss: 9.711089660413563e-06\n",
            "Epoch: 10/10, Batch: 30/100, Loss: 5.459468229673803e-05\n",
            "Epoch: 10/10, Batch: 40/100, Loss: 1.695610990282148e-05\n",
            "Epoch: 10/10, Batch: 50/100, Loss: 5.520762897504028e-06\n",
            "Epoch: 10/10, Batch: 60/100, Loss: 0.0001420901098754257\n",
            "Epoch: 10/10, Batch: 70/100, Loss: 2.4996452339109965e-06\n",
            "Epoch: 10/10, Batch: 80/100, Loss: 7.81817507231608e-05\n",
            "Epoch: 10/10, Batch: 90/100, Loss: 7.699931302340701e-06\n"
          ]
        }
      ]
    },
    {
      "cell_type": "code",
      "source": [
        "model.eval()\n",
        "correct = 0\n",
        "total = 0\n",
        "with torch.no_grad():\n",
        "    for data, target in test_loader:\n",
        "        output = model(data)\n",
        "        _, predicted = torch.max(output.data, 1)\n",
        "        total += target.size(0)\n",
        "        correct += (predicted == target).sum().item()\n",
        "\n",
        "print(f'Accuracy on the test set: {100 * correct / total}%')\n"
      ],
      "metadata": {
        "colab": {
          "base_uri": "https://localhost:8080/"
        },
        "id": "ZZl6Iyx75A7o",
        "outputId": "c59344e2-44cc-43f0-e8e8-07b288a36125"
      },
      "execution_count": 16,
      "outputs": [
        {
          "output_type": "stream",
          "name": "stdout",
          "text": [
            "Accuracy on the test set: 100.0%\n"
          ]
        }
      ]
    }
  ]
}